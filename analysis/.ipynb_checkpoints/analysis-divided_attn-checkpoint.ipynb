{
 "cells": [
  {
   "cell_type": "markdown",
   "metadata": {},
   "source": [
    "# Analysis: Divided Attention Experiment \n",
    "\n",
    "\n",
    "## Import all subject data"
   ]
  },
  {
   "cell_type": "code",
   "execution_count": 8,
   "metadata": {
    "collapsed": false
   },
   "outputs": [],
   "source": [
    "import pandas as pd\n",
    "import os, glob\n",
    "\n",
    "data_dir       = \"../data\"\n",
    "data_filenames = glob.glob(os.path.join(data_dir,'*.csv'))\n",
    "raw_df         = pd.DataFrame()\n",
    "list_          = []\n",
    "subj_df        = pd.DataFrame()\n",
    "\n",
    "for data_file in data_filenames:\n",
    "    subj_file = os.path.join(data_dir,data_file)\n",
    "    subj_df   = pd.read_csv(subj_file, index_col=None, header=0)\n",
    "    list_.append(subj_df)\n",
    "\n",
    "raw_df = pd.concat(list_)  "
   ]
  },
  {
   "cell_type": "markdown",
   "metadata": {},
   "source": [
    "## Clean data\n",
    "- Drop unnecessary variables/columns\n",
    "- Remove header rows\n",
    "- Convert string data to numerics"
   ]
  },
  {
   "cell_type": "code",
   "execution_count": 9,
   "metadata": {
    "collapsed": false,
    "scrolled": false
   },
   "outputs": [],
   "source": [
    "# Delete unused columns/variables\n",
    "raw_df.head()\n",
    "df = raw_df.drop(['save_filename', 'font_rgb_color', 'Unnamed: 18'], axis=1)"
   ]
  },
  {
   "cell_type": "code",
   "execution_count": 10,
   "metadata": {
    "collapsed": false
   },
   "outputs": [],
   "source": [
    "# Filter out rows with a copy of the header-row info\n",
    "df = df[df.date != 'date'] "
   ]
  },
  {
   "cell_type": "code",
   "execution_count": 11,
   "metadata": {
    "collapsed": true
   },
   "outputs": [],
   "source": [
    "# Convert strings to ints\n",
    "def transform_feature( df, column_name ):\n",
    "    \n",
    "    def label_map(y):\n",
    "        return int(y)\n",
    "    \n",
    "    df[column_name] = df[column_name].apply( label_map )\n",
    "    return df\n",
    "\n",
    "### list of column names indicating which columns to transform; \n",
    "### this is just a start!  Use some of the print( labels_df.head() )\n",
    "### output upstream to help you decide which columns get the\n",
    "### transformation\n",
    "names_of_columns_to_transform = ['trial_order_num']\n",
    "for column in names_of_columns_to_transform:\n",
    "    df = transform_feature( df, column )\n",
    "    "
   ]
  },
  {
   "cell_type": "code",
   "execution_count": 12,
   "metadata": {
    "collapsed": true
   },
   "outputs": [],
   "source": [
    "# Convert strings to floats\n",
    "def transform_str2float(df, column_name):\n",
    "    def label_map(y):\n",
    "        return float(y)\n",
    "    \n",
    "    df[column_name] = df[column_name].apply(label_map)\n",
    "    return df\n",
    "\n",
    "columns_to_transform = ['ITI'\n",
    "                       , 'response01_time'\n",
    "                       , 'response02_time'\n",
    "                       , 'luminance_contrast']\n",
    "\n",
    "for column in columns_to_transform:\n",
    "    df = transform_str2float(df, column)\n",
    "    "
   ]
  },
  {
   "cell_type": "markdown",
   "metadata": {},
   "source": [
    "#### Example data"
   ]
  },
  {
   "cell_type": "code",
   "execution_count": 13,
   "metadata": {
    "collapsed": false,
    "scrolled": false
   },
   "outputs": [
    {
     "data": {
      "text/html": [
       "<div>\n",
       "<table border=\"1\" class=\"dataframe\">\n",
       "  <thead>\n",
       "    <tr style=\"text-align: right;\">\n",
       "      <th></th>\n",
       "      <th>date</th>\n",
       "      <th>start_time</th>\n",
       "      <th>expt_id</th>\n",
       "      <th>subj_id</th>\n",
       "      <th>trial_order_num</th>\n",
       "      <th>trial_type</th>\n",
       "      <th>catch_type</th>\n",
       "      <th>ITI</th>\n",
       "      <th>char_stim</th>\n",
       "      <th>response01_key</th>\n",
       "      <th>response01_time</th>\n",
       "      <th>response01_acc</th>\n",
       "      <th>response02_key</th>\n",
       "      <th>response02_time</th>\n",
       "      <th>response02_acc</th>\n",
       "      <th>luminance_contrast</th>\n",
       "    </tr>\n",
       "  </thead>\n",
       "  <tbody>\n",
       "    <tr>\n",
       "      <th>0</th>\n",
       "      <td>11/16/2015</td>\n",
       "      <td>3:02:35 PM</td>\n",
       "      <td>scz_seq_sim_divided_attn</td>\n",
       "      <td>A01</td>\n",
       "      <td>1</td>\n",
       "      <td>simultaneous</td>\n",
       "      <td>catch</td>\n",
       "      <td>0.55192</td>\n",
       "      <td>BC68</td>\n",
       "      <td>B</td>\n",
       "      <td>1.7997</td>\n",
       "      <td>TRUE</td>\n",
       "      <td>C</td>\n",
       "      <td>0.29767</td>\n",
       "      <td>TRUE</td>\n",
       "      <td>100</td>\n",
       "    </tr>\n",
       "    <tr>\n",
       "      <th>1</th>\n",
       "      <td>11/16/2015</td>\n",
       "      <td>3:02:35 PM</td>\n",
       "      <td>scz_seq_sim_divided_attn</td>\n",
       "      <td>A01</td>\n",
       "      <td>2</td>\n",
       "      <td>simultaneous</td>\n",
       "      <td>catch</td>\n",
       "      <td>0.58198</td>\n",
       "      <td>3MA1</td>\n",
       "      <td>A</td>\n",
       "      <td>1.1384</td>\n",
       "      <td>TRUE</td>\n",
       "      <td>N</td>\n",
       "      <td>0.16582</td>\n",
       "      <td>FALSE</td>\n",
       "      <td>100</td>\n",
       "    </tr>\n",
       "    <tr>\n",
       "      <th>2</th>\n",
       "      <td>11/16/2015</td>\n",
       "      <td>3:02:35 PM</td>\n",
       "      <td>scz_seq_sim_divided_attn</td>\n",
       "      <td>A01</td>\n",
       "      <td>3</td>\n",
       "      <td>simultaneous</td>\n",
       "      <td>catch</td>\n",
       "      <td>0.66170</td>\n",
       "      <td>F16B</td>\n",
       "      <td>B</td>\n",
       "      <td>1.3420</td>\n",
       "      <td>TRUE</td>\n",
       "      <td>F</td>\n",
       "      <td>0.14302</td>\n",
       "      <td>TRUE</td>\n",
       "      <td>100</td>\n",
       "    </tr>\n",
       "    <tr>\n",
       "      <th>3</th>\n",
       "      <td>11/16/2015</td>\n",
       "      <td>3:02:35 PM</td>\n",
       "      <td>scz_seq_sim_divided_attn</td>\n",
       "      <td>A01</td>\n",
       "      <td>4</td>\n",
       "      <td>simultaneous</td>\n",
       "      <td>catch</td>\n",
       "      <td>0.67347</td>\n",
       "      <td>9XD8</td>\n",
       "      <td>D</td>\n",
       "      <td>1.0902</td>\n",
       "      <td>TRUE</td>\n",
       "      <td>X</td>\n",
       "      <td>0.16395</td>\n",
       "      <td>TRUE</td>\n",
       "      <td>100</td>\n",
       "    </tr>\n",
       "    <tr>\n",
       "      <th>4</th>\n",
       "      <td>11/16/2015</td>\n",
       "      <td>3:02:35 PM</td>\n",
       "      <td>scz_seq_sim_divided_attn</td>\n",
       "      <td>A01</td>\n",
       "      <td>5</td>\n",
       "      <td>simultaneous</td>\n",
       "      <td>catch</td>\n",
       "      <td>0.64735</td>\n",
       "      <td>76YN</td>\n",
       "      <td>Y</td>\n",
       "      <td>1.1065</td>\n",
       "      <td>TRUE</td>\n",
       "      <td>N</td>\n",
       "      <td>1.18140</td>\n",
       "      <td>TRUE</td>\n",
       "      <td>100</td>\n",
       "    </tr>\n",
       "  </tbody>\n",
       "</table>\n",
       "</div>"
      ],
      "text/plain": [
       "         date   start_time                   expt_id subj_id  trial_order_num  \\\n",
       "0  11/16/2015   3:02:35 PM  scz_seq_sim_divided_attn     A01                1   \n",
       "1  11/16/2015   3:02:35 PM  scz_seq_sim_divided_attn     A01                2   \n",
       "2  11/16/2015   3:02:35 PM  scz_seq_sim_divided_attn     A01                3   \n",
       "3  11/16/2015   3:02:35 PM  scz_seq_sim_divided_attn     A01                4   \n",
       "4  11/16/2015   3:02:35 PM  scz_seq_sim_divided_attn     A01                5   \n",
       "\n",
       "     trial_type catch_type      ITI char_stim response01_key  response01_time  \\\n",
       "0  simultaneous      catch  0.55192      BC68              B           1.7997   \n",
       "1  simultaneous      catch  0.58198      3MA1              A           1.1384   \n",
       "2  simultaneous      catch  0.66170      F16B              B           1.3420   \n",
       "3  simultaneous      catch  0.67347      9XD8              D           1.0902   \n",
       "4  simultaneous      catch  0.64735      76YN              Y           1.1065   \n",
       "\n",
       "  response01_acc response02_key  response02_time response02_acc  \\\n",
       "0           TRUE              C          0.29767           TRUE   \n",
       "1           TRUE              N          0.16582          FALSE   \n",
       "2           TRUE              F          0.14302           TRUE   \n",
       "3           TRUE              X          0.16395           TRUE   \n",
       "4           TRUE              N          1.18140           TRUE   \n",
       "\n",
       "   luminance_contrast  \n",
       "0                 100  \n",
       "1                 100  \n",
       "2                 100  \n",
       "3                 100  \n",
       "4                 100  "
      ]
     },
     "execution_count": 13,
     "metadata": {},
     "output_type": "execute_result"
    }
   ],
   "source": [
    "df.head()"
   ]
  },
  {
   "cell_type": "markdown",
   "metadata": {},
   "source": [
    "## Group data into conditions: Simultaneous vs Sequential"
   ]
  },
  {
   "cell_type": "code",
   "execution_count": 14,
   "metadata": {
    "collapsed": false
   },
   "outputs": [],
   "source": [
    "# Find last trial number for each of the groups\n",
    "max_sim_trials = df[ (df.trial_type      == 'simultaneous') \n",
    "                   & (df.catch_type      == 'no_catch')].trial_order_num.max()\n",
    "\n",
    "max_seq_trials = df[ (df.trial_type      == 'simultaneous') \n",
    "                   & (df.catch_type      == 'no_catch')].trial_order_num.max()\n",
    "\n",
    "# ----------\n",
    "sim_trial_df = df[ (df.trial_type      == 'simultaneous')\n",
    "                 & (df.catch_type      == 'no_catch')\n",
    "                 & (df.trial_order_num == max_sim_trials)]\n",
    "seq_trial_df = df[ (df.trial_type      == 'sequential')\n",
    "                 & (df.catch_type      == 'no_catch')\n",
    "                 & (df.trial_order_num == max_seq_trials)]\n"
   ]
  },
  {
   "cell_type": "markdown",
   "metadata": {},
   "source": [
    "## Remove Outliers: Greater than 2 standard deviations in luminance contrast"
   ]
  },
  {
   "cell_type": "code",
   "execution_count": 15,
   "metadata": {
    "collapsed": false
   },
   "outputs": [],
   "source": [
    "num_stdevs        = 2\n",
    "\n",
    "seq_stdevs_cutoff = seq_trial_df.luminance_contrast.std() * 2\n",
    "seq_trial_df      = seq_trial_df[seq_trial_df.luminance_contrast < seq_stdevs_cutoff]\n",
    "\n",
    "sim_stdevs_cutoff = sim_trial_df.luminance_contrast.std() * 2\n",
    "sim_trial_df      = sim_trial_df[sim_trial_df.luminance_contrast < sim_stdevs_cutoff]\n",
    "\n"
   ]
  },
  {
   "cell_type": "code",
   "execution_count": 16,
   "metadata": {
    "collapsed": false,
    "scrolled": false
   },
   "outputs": [
    {
     "data": {
      "text/html": [
       "<div>\n",
       "<table border=\"1\" class=\"dataframe\">\n",
       "  <thead>\n",
       "    <tr style=\"text-align: right;\">\n",
       "      <th></th>\n",
       "      <th>trial_order_num</th>\n",
       "      <th>ITI</th>\n",
       "      <th>response01_time</th>\n",
       "      <th>response02_time</th>\n",
       "      <th>luminance_contrast</th>\n",
       "    </tr>\n",
       "  </thead>\n",
       "  <tbody>\n",
       "    <tr>\n",
       "      <th>count</th>\n",
       "      <td>39</td>\n",
       "      <td>39.000000</td>\n",
       "      <td>39.000000</td>\n",
       "      <td>39.000000</td>\n",
       "      <td>39.000000</td>\n",
       "    </tr>\n",
       "    <tr>\n",
       "      <th>mean</th>\n",
       "      <td>200</td>\n",
       "      <td>0.600205</td>\n",
       "      <td>1.296781</td>\n",
       "      <td>0.314485</td>\n",
       "      <td>23.631800</td>\n",
       "    </tr>\n",
       "    <tr>\n",
       "      <th>std</th>\n",
       "      <td>0</td>\n",
       "      <td>0.024639</td>\n",
       "      <td>0.351259</td>\n",
       "      <td>0.227900</td>\n",
       "      <td>32.674151</td>\n",
       "    </tr>\n",
       "    <tr>\n",
       "      <th>min</th>\n",
       "      <td>200</td>\n",
       "      <td>0.551120</td>\n",
       "      <td>0.649830</td>\n",
       "      <td>0.028601</td>\n",
       "      <td>10.767500</td>\n",
       "    </tr>\n",
       "    <tr>\n",
       "      <th>25%</th>\n",
       "      <td>200</td>\n",
       "      <td>0.609350</td>\n",
       "      <td>1.081050</td>\n",
       "      <td>0.123075</td>\n",
       "      <td>12.806550</td>\n",
       "    </tr>\n",
       "    <tr>\n",
       "      <th>50%</th>\n",
       "      <td>200</td>\n",
       "      <td>0.609350</td>\n",
       "      <td>1.277600</td>\n",
       "      <td>0.250120</td>\n",
       "      <td>15.076000</td>\n",
       "    </tr>\n",
       "    <tr>\n",
       "      <th>75%</th>\n",
       "      <td>200</td>\n",
       "      <td>0.609350</td>\n",
       "      <td>1.421100</td>\n",
       "      <td>0.434645</td>\n",
       "      <td>21.081950</td>\n",
       "    </tr>\n",
       "    <tr>\n",
       "      <th>max</th>\n",
       "      <td>200</td>\n",
       "      <td>0.660300</td>\n",
       "      <td>2.182500</td>\n",
       "      <td>0.902820</td>\n",
       "      <td>202.174500</td>\n",
       "    </tr>\n",
       "  </tbody>\n",
       "</table>\n",
       "</div>"
      ],
      "text/plain": [
       "       trial_order_num        ITI  response01_time  response02_time  \\\n",
       "count               39  39.000000        39.000000        39.000000   \n",
       "mean               200   0.600205         1.296781         0.314485   \n",
       "std                  0   0.024639         0.351259         0.227900   \n",
       "min                200   0.551120         0.649830         0.028601   \n",
       "25%                200   0.609350         1.081050         0.123075   \n",
       "50%                200   0.609350         1.277600         0.250120   \n",
       "75%                200   0.609350         1.421100         0.434645   \n",
       "max                200   0.660300         2.182500         0.902820   \n",
       "\n",
       "       luminance_contrast  \n",
       "count           39.000000  \n",
       "mean            23.631800  \n",
       "std             32.674151  \n",
       "min             10.767500  \n",
       "25%             12.806550  \n",
       "50%             15.076000  \n",
       "75%             21.081950  \n",
       "max            202.174500  "
      ]
     },
     "execution_count": 16,
     "metadata": {},
     "output_type": "execute_result"
    }
   ],
   "source": [
    "sim_trial_df.describe()"
   ]
  },
  {
   "cell_type": "code",
   "execution_count": 17,
   "metadata": {
    "collapsed": false,
    "scrolled": true
   },
   "outputs": [
    {
     "data": {
      "text/html": [
       "<div>\n",
       "<table border=\"1\" class=\"dataframe\">\n",
       "  <thead>\n",
       "    <tr style=\"text-align: right;\">\n",
       "      <th></th>\n",
       "      <th>trial_order_num</th>\n",
       "      <th>ITI</th>\n",
       "      <th>response01_time</th>\n",
       "      <th>response02_time</th>\n",
       "      <th>luminance_contrast</th>\n",
       "    </tr>\n",
       "  </thead>\n",
       "  <tbody>\n",
       "    <tr>\n",
       "      <th>count</th>\n",
       "      <td>39</td>\n",
       "      <td>39.000000</td>\n",
       "      <td>39.000000</td>\n",
       "      <td>39.000000</td>\n",
       "      <td>39.000000</td>\n",
       "    </tr>\n",
       "    <tr>\n",
       "      <th>mean</th>\n",
       "      <td>200</td>\n",
       "      <td>0.563831</td>\n",
       "      <td>1.874201</td>\n",
       "      <td>0.421508</td>\n",
       "      <td>17.271149</td>\n",
       "    </tr>\n",
       "    <tr>\n",
       "      <th>std</th>\n",
       "      <td>0</td>\n",
       "      <td>0.008412</td>\n",
       "      <td>2.469109</td>\n",
       "      <td>0.451358</td>\n",
       "      <td>7.361781</td>\n",
       "    </tr>\n",
       "    <tr>\n",
       "      <th>min</th>\n",
       "      <td>200</td>\n",
       "      <td>0.527510</td>\n",
       "      <td>0.316820</td>\n",
       "      <td>0.021083</td>\n",
       "      <td>11.795500</td>\n",
       "    </tr>\n",
       "    <tr>\n",
       "      <th>25%</th>\n",
       "      <td>200</td>\n",
       "      <td>0.561970</td>\n",
       "      <td>1.144950</td>\n",
       "      <td>0.140035</td>\n",
       "      <td>13.591550</td>\n",
       "    </tr>\n",
       "    <tr>\n",
       "      <th>50%</th>\n",
       "      <td>200</td>\n",
       "      <td>0.561970</td>\n",
       "      <td>1.362600</td>\n",
       "      <td>0.246210</td>\n",
       "      <td>14.643700</td>\n",
       "    </tr>\n",
       "    <tr>\n",
       "      <th>75%</th>\n",
       "      <td>200</td>\n",
       "      <td>0.561970</td>\n",
       "      <td>1.612050</td>\n",
       "      <td>0.494585</td>\n",
       "      <td>17.484150</td>\n",
       "    </tr>\n",
       "    <tr>\n",
       "      <th>max</th>\n",
       "      <td>200</td>\n",
       "      <td>0.577260</td>\n",
       "      <td>14.591000</td>\n",
       "      <td>1.914600</td>\n",
       "      <td>45.819000</td>\n",
       "    </tr>\n",
       "  </tbody>\n",
       "</table>\n",
       "</div>"
      ],
      "text/plain": [
       "       trial_order_num        ITI  response01_time  response02_time  \\\n",
       "count               39  39.000000        39.000000        39.000000   \n",
       "mean               200   0.563831         1.874201         0.421508   \n",
       "std                  0   0.008412         2.469109         0.451358   \n",
       "min                200   0.527510         0.316820         0.021083   \n",
       "25%                200   0.561970         1.144950         0.140035   \n",
       "50%                200   0.561970         1.362600         0.246210   \n",
       "75%                200   0.561970         1.612050         0.494585   \n",
       "max                200   0.577260        14.591000         1.914600   \n",
       "\n",
       "       luminance_contrast  \n",
       "count           39.000000  \n",
       "mean            17.271149  \n",
       "std              7.361781  \n",
       "min             11.795500  \n",
       "25%             13.591550  \n",
       "50%             14.643700  \n",
       "75%             17.484150  \n",
       "max             45.819000  "
      ]
     },
     "execution_count": 17,
     "metadata": {},
     "output_type": "execute_result"
    }
   ],
   "source": [
    "seq_trial_df.describe()"
   ]
  },
  {
   "cell_type": "markdown",
   "metadata": {},
   "source": [
    "## Stimuli\n",
    "\n",
    "![Stimuli](../figures/fig_stimuli.png)\n",
    "\n",
    "### Blocked trial types\n",
    "|         | **Simultaneous** | **Sequential** |\n",
    "| ----:   | ---- | ---- |\n",
    "| **Catch**   | 50 trials   | 50 trials  |\n",
    "| **No Catch** | 200 trials  | 200 trials |\n",
    "\n",
    "\n",
    "### Timing\n",
    "\n",
    "|Simultaneous | Frame 1 | ?-frame             | ??-frame           |\n",
    "| ----        | ----    | -----               |----                |\n",
    "|             |  100 ms | Subject terminated  | Subject terminated |\n",
    "\n",
    "\n",
    "| Sequential  | Frame 1   | (Blank) |  Frame 2 | ?-frame            | ??-frame           |\n",
    "| ----        | ----      | ----    | -----    | -----              |----                |\n",
    "|             |   50 ms   | 800 ms  | 50 ms    | Subject terminated | Subject terminated |\n",
    "\n",
    "### Quest input parameters\n",
    "\n",
    "```\n",
    "tGuess      = log10(12);    % log of estimated threshold -  time for peripheral accuracy\n",
    "tGuessSd    = log10(3);     % standard deviation\n",
    "pThreshold  = 0.75;         % performance will converage at this\n",
    "beta        = 3.5;          % steepness of the Weibull function, typically 3\n",
    "delta       = 0.01;         % fraction of trials observer presses blindly\n",
    "gamma       = 0.5;          % fraction of trials generate response 1 when intensity = -inf\n",
    "```\n",
    "\n",
    "### Instructions\n",
    "\n",
    "In this experiment, you will be presented with a set of numbers and letters on a screen, and then will be asked to report which letters you saw. \n",
    "\n",
    "During each trial, you will first be presented with a fixation dot in the middle of the screen. This fixation dot marks the beginning of a single trial. Then a set of letters and numbers will briefly appear and then disappear. Afterwards, you'll see a question mark appear prompting you to report via the keyboard which letters appeared on the screen. Once you've reported the letters, the trial will end and the next one will begin.\n",
    "\n",
    "On some set of trials, you will see 4 characters appear simultaneously on the screen (2 letters + 2 numbers). On another set of trials, 2 characters (1 letter + 1 number) will appear, then will disappear, followed by another pair of characters.\n",
    "\n",
    "\n",
    "### Task\n",
    "Your task in this experiment is to **report which 2 letters appeared in single trial** via the keyboard. \n",
    "\n",
    "- When you see 1 question mark, enter in one of the letters you saw. \n",
    "- When you see 2 question marks, enter in the other letter you saw. \n",
    "- Order does not matter. \n",
    "\n",
    "Throughout the trial, the brightness of the colors will change. Even if you have a hard time seeing the letters, **make your best guess** as to which 2 letters appeared. Typically, at the start the letters will be hard to see, so don't worry if you have to make a guess. \n",
    "\n",
    "<br>\n",
    "<br>\n",
    "<br>\n",
    "\n",
    "\n",
    "\n",
    "\n"
   ]
  },
  {
   "cell_type": "markdown",
   "metadata": {},
   "source": [
    "## Histogram: Luminance Contrasts for Sequential Trials"
   ]
  },
  {
   "cell_type": "code",
   "execution_count": 18,
   "metadata": {
    "collapsed": false
   },
   "outputs": [],
   "source": [
    "%matplotlib inline\n",
    "import matplotlib\n",
    "from pylab import rcParams\n",
    "\n",
    "matplotlib.style.use('ggplot')\n",
    "rcParams['figure.figsize'] = 10, 7"
   ]
  },
  {
   "cell_type": "code",
   "execution_count": 19,
   "metadata": {
    "collapsed": false,
    "scrolled": false
   },
   "outputs": [
    {
     "data": {
      "text/plain": [
       "<matplotlib.axes._subplots.AxesSubplot at 0x10a6e60b8>"
      ]
     },
     "execution_count": 19,
     "metadata": {},
     "output_type": "execute_result"
    },
    {
     "data": {
      "image/png": "[encoded data removed]",
      "text/plain": [
       "<matplotlib.figure.Figure at 0x106637898>"
      ]
     },
     "metadata": {},
     "output_type": "display_data"
    }
   ],
   "source": [
    "seq_trial_df.luminance_contrast.hist(bins=50)"
   ]
  },
  {
   "cell_type": "code",
   "execution_count": 20,
   "metadata": {
    "collapsed": false,
    "scrolled": false
   },
   "outputs": [
    {
     "data": {
      "text/plain": [
       "count    39.000000\n",
       "mean     17.271149\n",
       "std       7.361781\n",
       "min      11.795500\n",
       "25%      13.591550\n",
       "50%      14.643700\n",
       "75%      17.484150\n",
       "max      45.819000\n",
       "Name: luminance_contrast, dtype: float64"
      ]
     },
     "execution_count": 20,
     "metadata": {},
     "output_type": "execute_result"
    }
   ],
   "source": [
    "seq_trial_df.luminance_contrast.describe()"
   ]
  },
  {
   "cell_type": "markdown",
   "metadata": {},
   "source": [
    "## Histogram: Luminance contrasts for Simultaneous trials"
   ]
  },
  {
   "cell_type": "code",
   "execution_count": 21,
   "metadata": {
    "collapsed": false,
    "scrolled": false
   },
   "outputs": [
    {
     "data": {
      "text/plain": [
       "<matplotlib.axes._subplots.AxesSubplot at 0x10aa590f0>"
      ]
     },
     "execution_count": 21,
     "metadata": {},
     "output_type": "execute_result"
    },
    {
     "data": {
      "image/png": "[encoded data removed]",
      "text/plain": [
       "<matplotlib.figure.Figure at 0x107783b38>"
      ]
     },
     "metadata": {},
     "output_type": "display_data"
    }
   ],
   "source": [
    "sim_trial_df.luminance_contrast.hist(bins=50)"
   ]
  },
  {
   "cell_type": "code",
   "execution_count": 22,
   "metadata": {
    "collapsed": false,
    "scrolled": false
   },
   "outputs": [
    {
     "data": {
      "text/plain": [
       "count     39.000000\n",
       "mean      23.631800\n",
       "std       32.674151\n",
       "min       10.767500\n",
       "25%       12.806550\n",
       "50%       15.076000\n",
       "75%       21.081950\n",
       "max      202.174500\n",
       "Name: luminance_contrast, dtype: float64"
      ]
     },
     "execution_count": 22,
     "metadata": {},
     "output_type": "execute_result"
    }
   ],
   "source": [
    "sim_trial_df.luminance_contrast.describe()"
   ]
  },
  {
   "cell_type": "markdown",
   "metadata": {},
   "source": [
    "## Final luminance contrast difference between conditions\n",
    "\n",
    "Luminance contrast difference: \n",
    "- **Simultaneous - Sequential\n",
    " = 23.631800 - 17.271149 = 6.360651**\n"
   ]
  },
  {
   "cell_type": "code",
   "execution_count": 23,
   "metadata": {
    "collapsed": false,
    "scrolled": false
   },
   "outputs": [
    {
     "data": {
      "text/plain": [
       "'23.631800 - 17.271149 = 6.360651'"
      ]
     },
     "execution_count": 23,
     "metadata": {},
     "output_type": "execute_result"
    }
   ],
   "source": [
    "'%f - %f = %f' %(  sim_trial_df.luminance_contrast.mean()\n",
    "                 , seq_trial_df.luminance_contrast.mean()\n",
    "                 , sim_trial_df.luminance_contrast.mean()-seq_trial_df.luminance_contrast.mean())\n",
    "\n"
   ]
  },
  {
   "cell_type": "markdown",
   "metadata": {},
   "source": [
    "## 2-tailed T-test between conditions: final luminance contrasts\n",
    "- **t = -1.18598  p = 0.242321**"
   ]
  },
  {
   "cell_type": "code",
   "execution_count": 24,
   "metadata": {
    "collapsed": false,
    "scrolled": false
   },
   "outputs": [
    {
     "ename": "SyntaxError",
     "evalue": "invalid syntax (<ipython-input-24-26635b42b346>, line 11)",
     "output_type": "error",
     "traceback": [
      "\u001b[0;36m  File \u001b[0;32m\"<ipython-input-24-26635b42b346>\"\u001b[0;36m, line \u001b[0;32m11\u001b[0m\n\u001b[0;31m    print \"ttest_ind: t = %g  p = %g\" % (t, p)\u001b[0m\n\u001b[0m                                    ^\u001b[0m\n\u001b[0;31mSyntaxError\u001b[0m\u001b[0;31m:\u001b[0m invalid syntax\n"
     ]
    }
   ],
   "source": [
    "import numpy as np\n",
    "from scipy.stats   import ttest_ind\n",
    "from scipy.special import stdtr\n",
    "\n",
    "# Set input data\n",
    "a = seq_trial_df.luminance_contrast\n",
    "b = sim_trial_df.luminance_contrast\n",
    "\n",
    "# Use scipy.stats.ttest_ind.\n",
    "t, p = ttest_ind(a, b, equal_var=False)\n",
    "print \"ttest_ind: t = %g  p = %g\" % (t, p)\n",
    "\n"
   ]
  },
  {
   "cell_type": "code",
   "execution_count": 46,
   "metadata": {
    "collapsed": false
   },
   "outputs": [],
   "source": [
    "import seaborn as sns\n",
    "import matplotlib.pyplot as plt\n",
    "sns.set_style('whitegrid')"
   ]
  },
  {
   "cell_type": "markdown",
   "metadata": {},
   "source": [
    "## Plot: Luminance Contrasts - Sequential - All Subjects"
   ]
  },
  {
   "cell_type": "code",
   "execution_count": 54,
   "metadata": {
    "collapsed": false,
    "scrolled": true
   },
   "outputs": [
    {
     "data": {
      "text/plain": [
       "[(0, 210)]"
      ]
     },
     "execution_count": 54,
     "metadata": {},
     "output_type": "execute_result"
    },
    {
     "data": {
      "image/png": "[encoded data removed]",
      "text/plain": [
       "<matplotlib.figure.Figure at 0x10de36b00>"
      ]
     },
     "metadata": {},
     "output_type": "display_data"
    }
   ],
   "source": [
    "ax = sns.barplot(x='subj_id', y='luminance_contrast'\n",
    "                , data=seq_trial_df\n",
    "                , color='mediumblue')\n",
    "ax.set(ylim=(0,210))\n"
   ]
  },
  {
   "cell_type": "markdown",
   "metadata": {},
   "source": [
    "## Plot: Luminance Contrasts - Simultaneous - All Subjects"
   ]
  },
  {
   "cell_type": "code",
   "execution_count": 50,
   "metadata": {
    "collapsed": false,
    "scrolled": true
   },
   "outputs": [
    {
     "data": {
      "text/plain": [
       "[(0, 210)]"
      ]
     },
     "execution_count": 50,
     "metadata": {},
     "output_type": "execute_result"
    },
    {
     "data": {
      "image/png": "[encoded data removed]",
      "text/plain": [
       "<matplotlib.figure.Figure at 0x10f13bac8>"
      ]
     },
     "metadata": {},
     "output_type": "display_data"
    }
   ],
   "source": [
    "plt_sim = sns.barplot(x='subj_id', y='luminance_contrast'\n",
    "                 , data=sim_trial_df\n",
    "                 , color='gold')\n",
    "plt_sim.set(ylim=(0,210))"
   ]
  },
  {
   "cell_type": "code",
   "execution_count": null,
   "metadata": {
    "collapsed": true
   },
   "outputs": [],
   "source": []
  }
 ],
 "metadata": {
  "kernelspec": {
   "display_name": "Python 3",
   "language": "python",
   "name": "python3"
  },
  "language_info": {
   "codemirror_mode": {
    "name": "ipython",
    "version": 3
   },
   "file_extension": ".py",
   "mimetype": "text/x-python",
   "name": "python",
   "nbconvert_exporter": "python",
   "pygments_lexer": "ipython3",
   "version": "3.5.0"
  }
 },
 "nbformat": 4,
 "nbformat_minor": 0
}
